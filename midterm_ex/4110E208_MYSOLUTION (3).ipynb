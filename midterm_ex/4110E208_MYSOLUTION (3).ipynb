{
  "nbformat": 4,
  "nbformat_minor": 0,
  "metadata": {
    "colab": {
      "provenance": []
    },
    "kernelspec": {
      "name": "python3",
      "display_name": "Python 3"
    },
    "language_info": {
      "name": "python"
    }
  },
  "cells": [
    {
      "cell_type": "markdown",
      "source": [
        "## 1\n",
        "```\n",
        "What can Python do?\n",
        "\n",
        "(A)Python can be used on a server to create web applications.\n",
        "\n",
        "(B)Python can be used alongside software to create workflows.\n",
        "\n",
        "(C)Python can connect to database systems. It can also read and modify files.\n",
        "\n",
        "(D)Python can be used to handle big data and perform complex mathematics.\n",
        "\n",
        "\n",
        "\n",
        "-answer: https://www.w3schools.com/python/python_intro.asp\n",
        "\n",
        "What can Python do?\n",
        "\n",
        "Python can be used on a server to create web applications.\n",
        "\n",
        "Python can be used alongside software to create workflows.\n",
        "\n",
        "Python can connect to database systems. It can also read and modify files.\n",
        "\n",
        "Python can be used to handle big data and perform complex mathematics.\n",
        "\n",
        "Python can be used for rapid prototyping, or for production-ready software development. Why Python?\n",
        "\n",
        "2\n",
        "Python uses __________ to indicate a block of code\n",
        "\n",
        "(A) [] (B) {} (C) () (D) indentation\n",
        "\n",
        "answer https://www.w3schools.com/python/python_syntax.asp\n",
        "\n",
        "Python uses indentation to indicate a block of code.\n",
        "\n",
        "ANSWER (D) indentation\n",
        " \n",
        "3\n",
        "Python has commenting capability for the purpose of in-code documentation. Comments start with a __________\n",
        "\n",
        "(A) A (B) # (C) / (D)&\n",
        "\n",
        "ANSWER (B) #\n",
        "\n",
        "4\n",
        "```"
      ],
      "metadata": {
        "id": "b4sJCLqc18jk"
      }
    },
    {
      "cell_type": "code",
      "source": [
        "fruits = [\"apple\", \"banana\", \"cherry\"]\n",
        "x, y, z = fruits\n",
        "print(x)"
      ],
      "metadata": {
        "colab": {
          "base_uri": "https://localhost:8080/"
        },
        "id": "TsYq49xR2MwB",
        "outputId": "a36816f3-4406-4bb5-b386-5dab229585e5"
      },
      "execution_count": 1,
      "outputs": [
        {
          "output_type": "stream",
          "name": "stdout",
          "text": [
            "apple\n"
          ]
        }
      ]
    },
    {
      "cell_type": "markdown",
      "source": [
        "## answer (A) APPLE"
      ],
      "metadata": {
        "id": "ketNkxf42U2A"
      }
    },
    {
      "cell_type": "markdown",
      "source": [
        "## 5.)"
      ],
      "metadata": {
        "id": "tyfu9wOm2cGp"
      }
    },
    {
      "cell_type": "code",
      "source": [
        "students = { 'name' => 'alice' ;  'score' =>60 }"
      ],
      "metadata": {
        "colab": {
          "base_uri": "https://localhost:8080/",
          "height": 132
        },
        "id": "Lk_lp73m2jIa",
        "outputId": "1ecd0f6a-3ba3-4f99-e249-012273029faa"
      },
      "execution_count": 2,
      "outputs": [
        {
          "output_type": "error",
          "ename": "SyntaxError",
          "evalue": "ignored",
          "traceback": [
            "\u001b[0;36m  File \u001b[0;32m\"<ipython-input-2-ed12b19b76b9>\"\u001b[0;36m, line \u001b[0;32m1\u001b[0m\n\u001b[0;31m    students = { 'name' => 'alice' ;  'score' =>60 }\u001b[0m\n\u001b[0m                        ^\u001b[0m\n\u001b[0;31mSyntaxError\u001b[0m\u001b[0;31m:\u001b[0m invalid syntax\n"
          ]
        }
      ]
    },
    {
      "cell_type": "code",
      "source": [
        "students = { 'name' = 'alice' ;  'score' =60 }"
      ],
      "metadata": {
        "colab": {
          "base_uri": "https://localhost:8080/",
          "height": 132
        },
        "id": "Uq54VvfK2moC",
        "outputId": "bb984f73-6215-48f6-afce-6ac083b61a7b"
      },
      "execution_count": 3,
      "outputs": [
        {
          "output_type": "error",
          "ename": "SyntaxError",
          "evalue": "ignored",
          "traceback": [
            "\u001b[0;36m  File \u001b[0;32m\"<ipython-input-3-2b6d7142b302>\"\u001b[0;36m, line \u001b[0;32m1\u001b[0m\n\u001b[0;31m    students = { 'name' = 'alice' ;  'score' =60 }\u001b[0m\n\u001b[0m                        ^\u001b[0m\n\u001b[0;31mSyntaxError\u001b[0m\u001b[0;31m:\u001b[0m invalid syntax\n"
          ]
        }
      ]
    },
    {
      "cell_type": "code",
      "source": [
        "students = { 'name' : 'alice' ;  'score' : 60 }"
      ],
      "metadata": {
        "colab": {
          "base_uri": "https://localhost:8080/",
          "height": 132
        },
        "id": "rY47p8QO2oi6",
        "outputId": "12e467d2-8e2c-4183-e9f4-f3946f852801"
      },
      "execution_count": 4,
      "outputs": [
        {
          "output_type": "error",
          "ename": "SyntaxError",
          "evalue": "ignored",
          "traceback": [
            "\u001b[0;36m  File \u001b[0;32m\"<ipython-input-4-a6c06425b6ca>\"\u001b[0;36m, line \u001b[0;32m1\u001b[0m\n\u001b[0;31m    students = { 'name' : 'alice' ;  'score' : 60 }\u001b[0m\n\u001b[0m                                  ^\u001b[0m\n\u001b[0;31mSyntaxError\u001b[0m\u001b[0;31m:\u001b[0m invalid syntax\n"
          ]
        }
      ]
    },
    {
      "cell_type": "code",
      "source": [
        "students = { 'name' => 'alice' ,  'score' =>60 }"
      ],
      "metadata": {
        "colab": {
          "base_uri": "https://localhost:8080/",
          "height": 132
        },
        "id": "rNDQmsEz2qt6",
        "outputId": "ddc927a1-52c2-4789-a34b-4187309a45b7"
      },
      "execution_count": 5,
      "outputs": [
        {
          "output_type": "error",
          "ename": "SyntaxError",
          "evalue": "ignored",
          "traceback": [
            "\u001b[0;36m  File \u001b[0;32m\"<ipython-input-5-57cc8b55d372>\"\u001b[0;36m, line \u001b[0;32m1\u001b[0m\n\u001b[0;31m    students = { 'name' => 'alice' ,  'score' =>60 }\u001b[0m\n\u001b[0m                        ^\u001b[0m\n\u001b[0;31mSyntaxError\u001b[0m\u001b[0;31m:\u001b[0m invalid syntax\n"
          ]
        }
      ]
    },
    {
      "cell_type": "code",
      "source": [
        "students = { 'name' : 'alice' , 'score' : 60 }"
      ],
      "metadata": {
        "id": "_q37zAUC2skr"
      },
      "execution_count": 6,
      "outputs": []
    },
    {
      "cell_type": "markdown",
      "source": [
        "## ANSWER (E) STUDENTS = {  'name' : 'alice' , 'score' : 60 }"
      ],
      "metadata": {
        "id": "n_Mczqch2wWD"
      }
    },
    {
      "cell_type": "markdown",
      "source": [
        "## 6"
      ],
      "metadata": {
        "id": "9UXeB1N124mJ"
      }
    },
    {
      "cell_type": "code",
      "source": [
        "x = 5\n",
        "y = \"John\"\n",
        "   \n",
        "print(x + y)"
      ],
      "metadata": {
        "colab": {
          "base_uri": "https://localhost:8080/",
          "height": 202
        },
        "id": "ThDmyIuO294V",
        "outputId": "33675e5c-3aa0-4e62-c360-ba0c97571a6f"
      },
      "execution_count": 7,
      "outputs": [
        {
          "output_type": "error",
          "ename": "TypeError",
          "evalue": "ignored",
          "traceback": [
            "\u001b[0;31m---------------------------------------------------------------------------\u001b[0m",
            "\u001b[0;31mTypeError\u001b[0m                                 Traceback (most recent call last)",
            "\u001b[0;32m<ipython-input-7-7c706c77b652>\u001b[0m in \u001b[0;36m<module>\u001b[0;34m\u001b[0m\n\u001b[1;32m      2\u001b[0m \u001b[0my\u001b[0m \u001b[0;34m=\u001b[0m \u001b[0;34m\"John\"\u001b[0m\u001b[0;34m\u001b[0m\u001b[0;34m\u001b[0m\u001b[0m\n\u001b[1;32m      3\u001b[0m \u001b[0;34m\u001b[0m\u001b[0m\n\u001b[0;32m----> 4\u001b[0;31m \u001b[0mprint\u001b[0m\u001b[0;34m(\u001b[0m\u001b[0mx\u001b[0m \u001b[0;34m+\u001b[0m \u001b[0my\u001b[0m\u001b[0;34m)\u001b[0m\u001b[0;34m\u001b[0m\u001b[0;34m\u001b[0m\u001b[0m\n\u001b[0m",
            "\u001b[0;31mTypeError\u001b[0m: unsupported operand type(s) for +: 'int' and 'str'"
          ]
        }
      ]
    },
    {
      "cell_type": "markdown",
      "source": [
        "## ANSWER (D) Python will give you an error"
      ],
      "metadata": {
        "id": "TDwa6SdK3Bkr"
      }
    },
    {
      "cell_type": "markdown",
      "source": [
        "## 7\n",
        "```\n",
        "(A)13//5 output: 2.6\n",
        "\n",
        "(B) 13/5 output: 2.6\n",
        "\n",
        "(C)13%5 output:3\n",
        "\n",
        "(D)y = int(2.8) output:2\n",
        "\n",
        " ANSWER (B) 13/5 output: 2.6\n",
        "```"
      ],
      "metadata": {
        "id": "dH3GYe2y3JSv"
      }
    },
    {
      "cell_type": "markdown",
      "source": [
        "## 8\n",
        "```\n",
        "What does the following Python program fragment do?\n",
        "\n",
        "s=0\n",
        "\n",
        "for i in range (3 , 11) :\n",
        "\n",
        "    s+=i\n",
        "```    "
      ],
      "metadata": {
        "id": "Gon0kGYz3WJn"
      }
    },
    {
      "cell_type": "code",
      "source": [
        "s=0\n",
        "   \n",
        "for i in range (3 , 11) :       \n",
        " s+=i\n",
        "print (s)"
      ],
      "metadata": {
        "id": "aBR1XPeq3hon"
      },
      "execution_count": null,
      "outputs": []
    },
    {
      "cell_type": "code",
      "source": [
        "x = range(3,11)\n",
        "\n",
        "for n in x:\n",
        "  print(n)"
      ],
      "metadata": {
        "colab": {
          "base_uri": "https://localhost:8080/"
        },
        "id": "_0SKEDF54GHT",
        "outputId": "f701ab8f-ac6c-404d-935b-841160368ebb"
      },
      "execution_count": 11,
      "outputs": [
        {
          "output_type": "stream",
          "name": "stdout",
          "text": [
            "3\n",
            "4\n",
            "5\n",
            "6\n",
            "7\n",
            "8\n",
            "9\n",
            "10\n"
          ]
        }
      ]
    },
    {
      "cell_type": "markdown",
      "source": [
        "##  ANSWER (D) Calculate the sum of 3+4+5+6+…+10"
      ],
      "metadata": {
        "id": "KSu11T2L4IYm"
      }
    },
    {
      "cell_type": "markdown",
      "source": [
        "## 9"
      ],
      "metadata": {
        "id": "n4lx3mWh4N3T"
      }
    },
    {
      "cell_type": "code",
      "source": [
        "a = \"Hello, World!\"\n",
        "print(a[2:5]+ a[3:8])"
      ],
      "metadata": {
        "colab": {
          "base_uri": "https://localhost:8080/"
        },
        "id": "rouPZKdz4QlZ",
        "outputId": "10bcde1a-a307-4bbb-8ac7-4b453e30e892"
      },
      "execution_count": 12,
      "outputs": [
        {
          "output_type": "stream",
          "name": "stdout",
          "text": [
            "llolo, W\n"
          ]
        }
      ]
    },
    {
      "cell_type": "markdown",
      "source": [
        "## (C) llolo, W"
      ],
      "metadata": {
        "id": "9qA1eKBw4UyA"
      }
    },
    {
      "cell_type": "markdown",
      "source": [
        "## 10"
      ],
      "metadata": {
        "id": "8ViQ8M594Xhb"
      }
    },
    {
      "cell_type": "markdown",
      "source": [
        "##\n",
        "```\n",
        " Which function can returns the length of a string? a = \"Hello, Pythonian!\" print(_________)\n",
        "\n",
        "(A) len(a) (B) length(a) (C) count(a) (D) num(a)\n",
        "\n",
        "https://www.w3schools.com/python/python_strings.asp\n",
        "\n",
        "(B) length(a)\n",
        "```"
      ],
      "metadata": {
        "id": "NsauB30A4bhq"
      }
    },
    {
      "cell_type": "markdown",
      "source": [
        "## 11 \n",
        "```\n",
        "What is the output of this code in Python?\n",
        "\n",
        "  list = [ ' a ' ,  ' b ' ,  ' c ' ,  ' d ' ,  ' e ' ]\n",
        "\n",
        "  print (list [ 1 : ])\n",
        "```"
      ],
      "metadata": {
        "id": "pO4s7--T4mjf"
      }
    },
    {
      "cell_type": "code",
      "source": [
        "list = [ ' a ' ,  ' b ' ,  ' c ' ,  ' d ' ,  ' e ' ]\n",
        "print (list [ 1 : ])"
      ],
      "metadata": {
        "colab": {
          "base_uri": "https://localhost:8080/"
        },
        "id": "RpYkA4Yo4nv3",
        "outputId": "f450f835-e05f-4b0c-bd23-1449042ea1aa"
      },
      "execution_count": 13,
      "outputs": [
        {
          "output_type": "stream",
          "name": "stdout",
          "text": [
            "[' b ', ' c ', ' d ', ' e ']\n"
          ]
        }
      ]
    },
    {
      "cell_type": "markdown",
      "source": [
        "\n",
        "```\n",
        "ANSWER (D) [ 'b' , 'c' , 'd' , 'e' ]\n",
        "```"
      ],
      "metadata": {
        "id": "0I3EGcou41i8"
      }
    },
    {
      "cell_type": "markdown",
      "source": [
        "## 12\n",
        "```\n",
        "What is the output of this code in Python?\n",
        "\n",
        "    L1 = [ ]\n",
        "\n",
        "    L1.append ( [1, [2, 3], 4] )\n",
        "\n",
        "    L1.extend ( [7, 8, 9] )\n",
        "\n",
        "    print(L1[0][1][1] + L1[2] )\n",
        "```"
      ],
      "metadata": {
        "id": "AcRg413Y4_GZ"
      }
    },
    {
      "cell_type": "code",
      "source": [
        "L1 = []\n",
        "L1.append ( [1, [2, 3], 4] )\n",
        "L1.extend ( [7, 8, 9] )\n",
        "\n",
        "print(L1[0][1][1] + L1[2])"
      ],
      "metadata": {
        "colab": {
          "base_uri": "https://localhost:8080/"
        },
        "id": "wRzl9EdC5JAl",
        "outputId": "c440e3cd-38ef-45cd-9c55-26ef0aaa7eee"
      },
      "execution_count": 14,
      "outputs": [
        {
          "output_type": "stream",
          "name": "stdout",
          "text": [
            "11\n"
          ]
        }
      ]
    },
    {
      "cell_type": "markdown",
      "source": [
        "## ANSWER (C)11"
      ],
      "metadata": {
        "id": "YxeSdpQ95Kr6"
      }
    },
    {
      "cell_type": "markdown",
      "source": [
        "##13\n",
        "```\n",
        "Check if \"free\" is present in the following text:\n",
        "\n",
        "txt = \"The best things in life are free!\" print(\"free\" ______ txt)\n",
        "\n",
        "Which is the correct answer?\n",
        "\n",
        "(A) on (B) with (C) at (D) in\n",
        "```"
      ],
      "metadata": {
        "id": "XxXDYX4Z5fyk"
      }
    },
    {
      "cell_type": "code",
      "source": [
        "txt = \"The best things in life are free!\"\n",
        "print(\"free\" in txt)"
      ],
      "metadata": {
        "colab": {
          "base_uri": "https://localhost:8080/"
        },
        "id": "wK53lV7l5k2s",
        "outputId": "7a1e1d94-8a2b-4364-c40a-a6cf0fd8600a"
      },
      "execution_count": 15,
      "outputs": [
        {
          "output_type": "stream",
          "name": "stdout",
          "text": [
            "True\n"
          ]
        }
      ]
    },
    {
      "cell_type": "markdown",
      "source": [
        "## ANSWER (D) IN"
      ],
      "metadata": {
        "id": "EstdDelj5wES"
      }
    },
    {
      "cell_type": "markdown",
      "source": [
        "## 14\n",
        "```\n",
        "Which of the following conditions correctly describes the output of this code in Python?\n",
        "\n",
        "     first = [1 , 2 , 3 , 4 , 5]\n",
        "\n",
        "     second = first\n",
        "\n",
        "     second.append (6)\n",
        "\n",
        "     print (first)\n",
        "\n",
        "     print (second)\n",
        "\n",
        "(A) first=[1, 2, 3, 4, 5], second=[1, 2, 3, 4, 5, 6]\n",
        "\n",
        "(B) first=[1, 2, 3, 4, 5, 6], second=[1, 2, 3, 4, 5]\n",
        "\n",
        "(C) first=[1, 2, 3, 4, 5], second=[1, 2, 3, 4, 5]\n",
        "\n",
        "(D) first=[1, 2, 3, 4, 5, 6], second=[1, 2, 3, 4, 5, 6]\n",
        "\n",
        "(E) None of these\n",
        "```"
      ],
      "metadata": {
        "id": "gR5Y7jhH58nB"
      }
    },
    {
      "cell_type": "code",
      "source": [
        "first = [1 , 2 , 3 , 4 , 5]\n",
        "second = first\n",
        "second.append (6)\n",
        "print (first)\n",
        "print (second)"
      ],
      "metadata": {
        "colab": {
          "base_uri": "https://localhost:8080/"
        },
        "id": "kl7WK1jP6I4R",
        "outputId": "b6c9b908-4a49-4079-efe4-82c9349f0569"
      },
      "execution_count": 16,
      "outputs": [
        {
          "output_type": "stream",
          "name": "stdout",
          "text": [
            "[1, 2, 3, 4, 5, 6]\n",
            "[1, 2, 3, 4, 5, 6]\n"
          ]
        }
      ]
    },
    {
      "cell_type": "markdown",
      "source": [
        "## (D) first=[1, 2, 3, 4, 5, 6], second=[1, 2, 3, 4, 5, 6]"
      ],
      "metadata": {
        "id": "XM1CkHNY6LUC"
      }
    },
    {
      "cell_type": "markdown",
      "source": [
        "## 15\n",
        "```\n",
        "Python has a set of built-in methods that you can use on strings. Which method can converts string into lower case ?\n",
        "\n",
        "(A)capitalize() (B) casefold() (C) lower()\n",
        "(D)expandtabs()\n",
        "```"
      ],
      "metadata": {
        "id": "BomuBcpJ6WSM"
      }
    },
    {
      "cell_type": "markdown",
      "source": [
        "## https://www.programiz.com/python-programming/methods/string/lower#:~:text=The%20lower()%20method%20converts,lowercase%20characters%20and%20returns%20it.\n",
        "\n",
        "ASNWER (C) LOWER ()"
      ],
      "metadata": {
        "id": "HePPY7YV6igj"
      }
    },
    {
      "cell_type": "markdown",
      "source": [
        "## 16\n",
        "```\n",
        "Python Booleans Which one of the following statements is wrong?\n",
        "\n",
        "(A) Booleans represent one of two values: True or False.\n",
        "\n",
        "(B) The bool() function allows you to evaluate any value, and give you True or False in return,\n",
        "\n",
        "(C) print(10 > 9) will output True\n",
        "\n",
        "(D) print(10 = 9) will output True\n",
        "```"
      ],
      "metadata": {
        "id": "kUgJk65B6thK"
      }
    },
    {
      "cell_type": "code",
      "source": [
        "print(10 = 9)"
      ],
      "metadata": {
        "colab": {
          "base_uri": "https://localhost:8080/",
          "height": 132
        },
        "id": "Q_1Cvn336zuL",
        "outputId": "45dd9a7e-3f01-45c0-e495-df93de61a249"
      },
      "execution_count": 17,
      "outputs": [
        {
          "output_type": "error",
          "ename": "SyntaxError",
          "evalue": "ignored",
          "traceback": [
            "\u001b[0;36m  File \u001b[0;32m\"<ipython-input-17-bfffe3a677b9>\"\u001b[0;36m, line \u001b[0;32m1\u001b[0m\n\u001b[0;31m    print(10 = 9)\u001b[0m\n\u001b[0m         ^\u001b[0m\n\u001b[0;31mSyntaxError\u001b[0m\u001b[0;31m:\u001b[0m keyword can't be an expression\n"
          ]
        }
      ]
    },
    {
      "cell_type": "markdown",
      "source": [
        "## (D) print(10 = 9) will output True"
      ],
      "metadata": {
        "id": "zlkR26GB7AqB"
      }
    },
    {
      "cell_type": "markdown",
      "source": [
        "## 17\n",
        "```\n",
        "Python Lists Which of the following statements is wrong?\n",
        "\n",
        "(A) Lists are used to store multiple items in a single variable.\n",
        "\n",
        "(B) Lists are created using square brackets\n",
        "\n",
        "(C) List items are ordered, changeable, and allow duplicate values.\n",
        "\n",
        "(D) Lists can not have items with the same value\n",
        "\n",
        "```"
      ],
      "metadata": {
        "id": "jLZUXtXa7FkQ"
      }
    },
    {
      "cell_type": "markdown",
      "source": [
        "## ANSWER (D) Lists can not have items with the same value"
      ],
      "metadata": {
        "id": "SJqtbO4f7KqQ"
      }
    },
    {
      "cell_type": "markdown",
      "source": [
        "## 18\n",
        "```\n",
        "Which one of the codes will output ['apple', 'orange', 'banana', 'cherry'] ?\n",
        "\n",
        "mylist = [\"apple\", \"banana\", \"cherry\"] _____________________ print(mylist)\n",
        "\n",
        "(A)mylist.append(\"orange\")\n",
        "\n",
        "(B)mylist.insert(0, \"orange\")\n",
        "\n",
        "(C)mylist.insert(1, \"orange\")\n",
        "\n",
        "(D)mylist.insert(2, \"orange\")\n",
        "```"
      ],
      "metadata": {
        "id": "OugP9S3g7RZB"
      }
    },
    {
      "cell_type": "code",
      "source": [
        "['apple', 'orange', 'banana', 'cherry']\n",
        "mylist = [\"apple\", \"banana\", \"cherry\"]\n",
        "\n",
        "mylist.insert(1, \"orange\")   \n",
        "print(mylist)"
      ],
      "metadata": {
        "colab": {
          "base_uri": "https://localhost:8080/"
        },
        "id": "m3n5fdSI7XiD",
        "outputId": "ca7b6c38-df4b-4191-da56-50680c8af4fa"
      },
      "execution_count": 18,
      "outputs": [
        {
          "output_type": "stream",
          "name": "stdout",
          "text": [
            "['apple', 'orange', 'banana', 'cherry']\n"
          ]
        }
      ]
    },
    {
      "cell_type": "markdown",
      "source": [
        "## (C) mylist.insert(1, \"orange\")"
      ],
      "metadata": {
        "id": "ONd1ZMmB7ddY"
      }
    },
    {
      "cell_type": "markdown",
      "source": [
        "## 19\n",
        "```\n",
        "Python has a set of built-in methods that you can use on dictionaries. Which statements are correct ?\n",
        "\n",
        "(A) clear() will removes all the elements from the dictionary\n",
        "\n",
        "(B) copy() will returns a copy of the dictionary\n",
        "\n",
        "(C) items() will returns a list containing a tuple for each key value pair\n",
        "\n",
        "(D) popitem() will removes the last inserted key-value pair\n",
        "```"
      ],
      "metadata": {
        "id": "4I_i6GVP7lfp"
      }
    },
    {
      "cell_type": "markdown",
      "source": [
        "##  ANSWER\n",
        "``` \n",
        "(A) clear() will removes all the elements from the dictionary\n",
        "(B) copy() will returns a copy of the dictionary\n",
        "(C) items() will returns a list containing a tuple for each key value pair\n",
        "(D) popitem() will removes the last inserted key-value pair\n",
        "```"
      ],
      "metadata": {
        "id": "PeGOROel7pEi"
      }
    },
    {
      "cell_type": "markdown",
      "source": [
        "## 20\n",
        "```\n",
        "Python supports the usual logical conditions from mathematics: Which statements are correct ?\n",
        "\n",
        "(A)Equals: a = b\n",
        "\n",
        "(B)Not Equals: a != b\n",
        "\n",
        "(C)Less than or equal to: a <= b\n",
        "\n",
        "(D)Greater than: a > b\n",
        "```"
      ],
      "metadata": {
        "id": "KhIJ4siu7x4K"
      }
    },
    {
      "cell_type": "markdown",
      "source": [
        "```\n",
        "(A)Equals: a = b\n",
        "\n",
        "(B)Not Equals: a != b\n",
        "\n",
        "(C)Less than or equal to: a <= b\n",
        "\n",
        "(D)Greater than: a > b\n",
        "```"
      ],
      "metadata": {
        "id": "X5FDZUm-73AU"
      }
    },
    {
      "cell_type": "markdown",
      "source": [
        "## 21\n",
        "```\n",
        "What is the output of this code in Python?\n",
        "i = 1\n",
        "while i < 6:\n",
        "  print(i)\n",
        "  if (i == 3):\n",
        "    break\n",
        "  i += 1\n",
        "  ```  "
      ],
      "metadata": {
        "id": "kTdTJT4g7586"
      }
    },
    {
      "cell_type": "code",
      "source": [
        "i = 1\n",
        "while i < 6:\n",
        "  print(i)\n",
        "  if (i == 3):\n",
        "    break\n",
        "  i += 1"
      ],
      "metadata": {
        "colab": {
          "base_uri": "https://localhost:8080/"
        },
        "id": "WfgZCkNv8PJU",
        "outputId": "ec57643e-e2be-4b38-e997-413cc075782b"
      },
      "execution_count": 19,
      "outputs": [
        {
          "output_type": "stream",
          "name": "stdout",
          "text": [
            "1\n",
            "2\n",
            "3\n"
          ]
        }
      ]
    },
    {
      "cell_type": "markdown",
      "source": [
        "## ANSWER \n",
        "          (A) 1\n",
        "              2\n",
        "              3"
      ],
      "metadata": {
        "id": "LJQNYFRx8UNi"
      }
    },
    {
      "cell_type": "markdown",
      "source": [
        "## 22\n",
        "```\n",
        "What is the output of this code in Python?\n",
        "i = 0\n",
        "while i < 6:\n",
        "  i +=1\n",
        "  if i == 3:\n",
        "    continue\n",
        "  print(i)  \n",
        "```"
      ],
      "metadata": {
        "id": "-sCABOlt8jGM"
      }
    },
    {
      "cell_type": "code",
      "source": [
        "i = 0\n",
        "while i < 6:\n",
        "  i += 1\n",
        "  if i == 3:\n",
        "    continue\n",
        "  print(i)"
      ],
      "metadata": {
        "colab": {
          "base_uri": "https://localhost:8080/"
        },
        "id": "EY6ZDFkv896d",
        "outputId": "564c6719-0dda-47cd-88ad-5ba582f6650e"
      },
      "execution_count": 20,
      "outputs": [
        {
          "output_type": "stream",
          "name": "stdout",
          "text": [
            "1\n",
            "2\n",
            "4\n",
            "5\n",
            "6\n"
          ]
        }
      ]
    },
    {
      "cell_type": "markdown",
      "source": [
        "```\n",
        "ANSWER (C) 1\n",
        "           2\n",
        "           3\n",
        "           4\n",
        "           5\n",
        "           6"
      ],
      "metadata": {
        "id": "0_HjtLLD9BHx"
      }
    },
    {
      "cell_type": "markdown",
      "source": [
        "## 23\n",
        "```\n",
        "If the function int volume (int x = 1, int y = 1, int z = 1); is called by the expression volume (7,8), how many default arguments are used?\n",
        "\n",
        "(A) None (B) One (C) Two (D) Three (E) It depends on the runtime environment.\n",
        "```"
      ],
      "metadata": {
        "id": "7vCiv7cz9PYC"
      }
    },
    {
      "cell_type": "markdown",
      "source": [
        "## answer (c) two"
      ],
      "metadata": {
        "id": "gVe_n-UC9Vx5"
      }
    },
    {
      "cell_type": "markdown",
      "source": [
        "## 24\n",
        "```\n",
        "What is the output of this code in python?\n",
        "\n",
        "    r = lambda q: q * 2\n",
        "\n",
        "    s = lambda q: q * 3\n",
        "\n",
        "    x = 2\n",
        "\n",
        "    x = r (x)\n",
        "\n",
        "    x = s (x)\n",
        "\n",
        "    x = r (x)\n",
        "\n",
        "    print (x\n",
        "\n",
        "    A) 2  (B) 4  (C) 6  (D) 12  (E) 24\n",
        " ```   "
      ],
      "metadata": {
        "id": "82rvlz2D9f7t"
      }
    },
    {
      "cell_type": "code",
      "source": [
        "r = lambda q: q * 2\n",
        "s = lambda q: q * 3\n",
        "x = 2\n",
        "x = r (x)\n",
        "x = s (x)\n",
        "x = r (x)\n",
        "print (x)"
      ],
      "metadata": {
        "colab": {
          "base_uri": "https://localhost:8080/"
        },
        "id": "8ZosjbVF9ms3",
        "outputId": "455952bb-f1fd-4e34-d91b-4c816d5818fa"
      },
      "execution_count": 21,
      "outputs": [
        {
          "output_type": "stream",
          "name": "stdout",
          "text": [
            "24\n"
          ]
        }
      ]
    },
    {
      "cell_type": "markdown",
      "source": [
        "##  ANSWER (E) 24"
      ],
      "metadata": {
        "id": "W6c_tuNT9o4K"
      }
    },
    {
      "cell_type": "markdown",
      "source": [
        "## 25\n",
        "```\n",
        "A recursive function is defined as below: def tri_recursion(k):\n",
        "\n",
        "if(k > 0):\n",
        "\n",
        "result = k + tri_recursion(k - 1)\n",
        "\n",
        "print(result)\n",
        "\n",
        "else:\n",
        "\n",
        "result = 0\n",
        "\n",
        "return result\n",
        "\n",
        "What Is The Last Line Of The Output When tri_recursion(6) is executed?\n",
        "\n",
        "(A) 6 (B) 10 (C) 15 (D) 21 (E) 28\n",
        "```"
      ],
      "metadata": {
        "id": "s72LcTvC9wb6"
      }
    },
    {
      "cell_type": "code",
      "source": [
        "def tri_recursion(k):\n",
        "  if(k > 0):\n",
        "    result = k + tri_recursion(k - 1)\n",
        "    print(result)\n",
        "  else:\n",
        "    result = 0\n",
        "  return result"
      ],
      "metadata": {
        "id": "TNjVBGFZ906S"
      },
      "execution_count": 22,
      "outputs": []
    },
    {
      "cell_type": "markdown",
      "source": [
        "## ANSWER (D) 21"
      ],
      "metadata": {
        "id": "JwkQwuSs94eq"
      }
    }
  ]
}